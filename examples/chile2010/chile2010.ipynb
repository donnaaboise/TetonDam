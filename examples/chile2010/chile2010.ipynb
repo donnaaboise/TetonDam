{
 "cells": [
  {
   "cell_type": "markdown",
   "metadata": {},
   "source": [
    "# Chile 2010\n",
    "\n",
    "---\n",
    "\n",
    "Simulation of the 2010 tsunami off of the coast of Chile.   \n",
    "\n",
    "---"
   ]
  },
  {
   "cell_type": "markdown",
   "metadata": {},
   "source": [
    "Create topo file and data files"
   ]
  },
  {
   "cell_type": "code",
   "execution_count": null,
   "metadata": {
    "collapsed": false
   },
   "outputs": [],
   "source": [
    "%run make_topo.py"
   ]
  },
  {
   "cell_type": "code",
   "execution_count": null,
   "metadata": {
    "collapsed": true
   },
   "outputs": [],
   "source": [
    "%run make_data.py"
   ]
  },
  {
   "cell_type": "markdown",
   "metadata": {},
   "source": [
    "Run code in **serial mode** (will work, even if code is compiled with MPI)"
   ]
  },
  {
   "cell_type": "code",
   "execution_count": null,
   "metadata": {
    "collapsed": true
   },
   "outputs": [],
   "source": [
    "!chile2010"
   ]
  },
  {
   "cell_type": "markdown",
   "metadata": {},
   "source": [
    "---\n",
    "Or, run code in **parallel mode** (command may need to be customized, depending your on MPI installation.)"
   ]
  },
  {
   "cell_type": "code",
   "execution_count": null,
   "metadata": {
    "collapsed": false
   },
   "outputs": [],
   "source": [
    "#!mpirun -n 4 chile2010"
   ]
  },
  {
   "cell_type": "markdown",
   "metadata": {},
   "source": [
    "---\n",
    "Create PNG files for web-browser viewing, or animation."
   ]
  },
  {
   "cell_type": "code",
   "execution_count": null,
   "metadata": {
    "collapsed": false
   },
   "outputs": [],
   "source": [
    "%run make_plots.py"
   ]
  },
  {
   "cell_type": "markdown",
   "metadata": {},
   "source": [
    "---\n",
    "View PNG files in browser, using URL above, or create an animation of all PNG files, using code below. "
   ]
  },
  {
   "cell_type": "code",
   "execution_count": null,
   "metadata": {
    "collapsed": false,
    "scrolled": false
   },
   "outputs": [],
   "source": [
    "%pylab inline"
   ]
  },
  {
   "cell_type": "code",
   "execution_count": null,
   "metadata": {
    "collapsed": false
   },
   "outputs": [],
   "source": [
    "import glob\n",
    "from matplotlib import image\n",
    "from clawpack.visclaw.JSAnimation import IPython_display\n",
    "from matplotlib import animation\n",
    "\n",
    "def init():\n",
    "    im.set_data(image.imread(filenames[0]))\n",
    "    return im,\n",
    "\n",
    "def animate(i):\n",
    "    image_i=image.imread(filenames[i])\n",
    "    im.set_data(image_i)\n",
    "    return im,"
   ]
  },
  {
   "cell_type": "markdown",
   "metadata": {},
   "source": [
    "---\n",
    "Plot figure 0, showing the entire solution.  To see detailed plotting parameters, see file make_plots.py."
   ]
  },
  {
   "cell_type": "code",
   "execution_count": null,
   "metadata": {
    "collapsed": false
   },
   "outputs": [],
   "source": [
    "figno = 0\n",
    "\n",
    "fname = '_plots/*fig' + str(figno) + '.png'\n",
    "filenames = sorted(glob.glob(fname))\n",
    "\n",
    "fig = plt.figure()\n",
    "im = plt.imshow(image.imread(filenames[0]))\n",
    "\n",
    "animation.FuncAnimation(fig, animate, init_func=init,\n",
    "                              frames=len(filenames), interval=500, blit=True)"
   ]
  },
  {
   "cell_type": "markdown",
   "metadata": {},
   "source": [
    "---\n",
    "Plot results on realistic topography using **cesiumpy** (requires _cesiumpy_).  \n"
   ]
  },
  {
   "cell_type": "code",
   "execution_count": null,
   "metadata": {
    "collapsed": false
   },
   "outputs": [],
   "source": [
    "import cesiumpy\n",
    "ds = cesiumpy.KmlDataSource('_plots/Chile_2010.kmz')\n",
    "v = cesiumpy.Viewer()\n",
    "v.dataSources.add(ds)\n",
    "v"
   ]
  },
  {
   "cell_type": "markdown",
   "metadata": {},
   "source": [
    "Alternatively, you can view the results in **Google Earth** (requires Google Earth).\n"
   ]
  },
  {
   "cell_type": "code",
   "execution_count": null,
   "metadata": {
    "collapsed": true
   },
   "outputs": [],
   "source": [
    "#!open _plots/Chile_2010.kmz    # requires Google Earth"
   ]
  },
  {
   "cell_type": "markdown",
   "metadata": {
    "collapsed": true
   },
   "source": [
    "---"
   ]
  }
 ],
 "metadata": {
  "kernelspec": {
   "display_name": "Python 2",
   "language": "python",
   "name": "python2"
  },
  "language_info": {
   "codemirror_mode": {
    "name": "ipython",
    "version": 2
   },
   "file_extension": ".py",
   "mimetype": "text/x-python",
   "name": "python",
   "nbconvert_exporter": "python",
   "pygments_lexer": "ipython2",
   "version": "2.7.11"
  }
 },
 "nbformat": 4,
 "nbformat_minor": 0
}
